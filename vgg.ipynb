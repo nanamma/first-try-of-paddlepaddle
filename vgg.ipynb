{
 "cells": [
  {
   "cell_type": "markdown",
   "metadata": {
    "collapsed": false
   },
   "source": [
    "# 飞桨领航团第三次作业"
   ]
  },
  {
   "cell_type": "markdown",
   "metadata": {
    "collapsed": false
   },
   "source": [
    "## 数据集处理"
   ]
  },
  {
   "cell_type": "markdown",
   "metadata": {
    "collapsed": false
   },
   "source": [
    "### 解压"
   ]
  },
  {
   "cell_type": "code",
   "execution_count": null,
   "metadata": {
    "collapsed": false
   },
   "outputs": [],
   "source": [
    "!unzip -oq /home/aistudio/data/data107275/archive\"(5)\".zip -d work"
   ]
  },
  {
   "cell_type": "markdown",
   "metadata": {
    "collapsed": false
   },
   "source": [
    "### 读取标签"
   ]
  },
  {
   "cell_type": "code",
   "execution_count": 1,
   "metadata": {
    "collapsed": false
   },
   "outputs": [
    {
     "name": "stdout",
     "output_type": "stream",
     "text": [
      "该数据集中包含总类别数为：58\n"
     ]
    }
   ],
   "source": [
    "import pandas as pd\r\n",
    "category_num = 0\r\n",
    "category_max = 0\r\n",
    "image_path = \"work/images/\"\r\n",
    "pro_path = \"work/images_processed/\"\r\n",
    "train_path = \"work/train/images/\"\r\n",
    "test_path = \"work/test/images/\"\r\n",
    "\r\n",
    "#读取标签\r\n",
    "labels = pd.read_csv(\"work/annotations.csv\",sep=',',encoding='unicode_escape')\r\n",
    "\r\n",
    "# 获取数据集中交通标志牌的总类别数\r\n",
    "for category in labels.loc[:,\"category\"]:\r\n",
    "    if category > category_max:\r\n",
    "        category_max = category\r\n",
    "print(\"该数据集中包含总类别数为：\"+str(category+1))"
   ]
  },
  {
   "cell_type": "markdown",
   "metadata": {
    "collapsed": false
   },
   "source": [
    "### cut"
   ]
  },
  {
   "cell_type": "code",
   "execution_count": null,
   "metadata": {
    "collapsed": false
   },
   "outputs": [],
   "source": [
    "# from PIL import Image\r\n",
    " \r\n",
    "# img = Image.open(\"./data/cut/thor.jpg\")\r\n",
    "# print(img.size)\r\n",
    "# cropped = img.crop((0, 0, 512, 128))  # (left, upper, right, lower)\r\n",
    "# cropped.save(\"./data/cut/pil_cut_thor.jpg\")"
   ]
  },
  {
   "cell_type": "markdown",
   "metadata": {
    "collapsed": false
   },
   "source": [
    "### pad"
   ]
  },
  {
   "cell_type": "code",
   "execution_count": null,
   "metadata": {
    "collapsed": false
   },
   "outputs": [],
   "source": [
    "from PIL import Image\r\n",
    "import numpy as np\r\n",
    "import paddle\r\n",
    "import paddle.vision.transforms as T\r\n",
    "from PIL import Image\r\n",
    "\r\n",
    "\r\n",
    "\r\n",
    "trans = T.Compose([\r\n",
    "            T.Normalize(\r\n",
    "                # mean= [0.43063927, 0.41976154, 0.42952005],\r\n",
    "                # std = [0.20604774, 0.19884101, 0.20074175],\r\n",
    "                data_format='HWC'),\r\n",
    "                T.ToTensor()\r\n",
    "            ])\r\n",
    "\r\n",
    "def pad_image(image, target_size):\r\n",
    " \r\n",
    "    \"\"\"\r\n",
    "    :param image: input image\r\n",
    "    :param target_size: a tuple (num,num)\r\n",
    "    :return: new image\r\n",
    "    \"\"\"\r\n",
    " \r\n",
    "    iw, ih = image.size  # 原始图像的尺寸\r\n",
    "    w, h = target_size  # 目标图像的尺寸\r\n",
    " \r\n",
    "    # print(\"original size: \",(iw,ih))\r\n",
    "    # print(\"new size: \", (w, h))\r\n",
    " \r\n",
    "    scale = min(w / iw, h / ih)  # 转换的最小比例\r\n",
    " \r\n",
    "    # 保证长或宽，至少一个符合目标图像的尺寸 0.5保证四舍五入\r\n",
    "    nw = int(iw * scale+0.5)\r\n",
    "    nh = int(ih * scale+0.5)\r\n",
    " \r\n",
    "    # print(\"now nums are: \", (nw, nh))\r\n",
    " \r\n",
    "    image = image.resize((nw, nh), Image.BICUBIC)  # 更改图像尺寸，双立法插值效果很好\r\n",
    "    #image.show()\r\n",
    "    new_image = Image.new('RGB', target_size, (0, 0, 0))  # 生成黑色图像\r\n",
    "    # // 为整数除法，计算图像的位置\r\n",
    "    new_image.paste(image, ((w - nw) // 2, (h - nh) // 2))  # 将图像填充为中间图像，两侧为黑色的样式\r\n",
    "    #new_image.show()\r\n",
    " \r\n",
    "    return new_image\r\n",
    "\r\n",
    "\r\n",
    "for i in range(len(labels)):\r\n",
    "    label = labels['file_name'][i]\r\n",
    "    # image = Image.open(image_path + labels['file_name'][i])\r\n",
    "    # image_np = np.array(image)\r\n",
    "    # image_tensor = paddle.to_tensor(image_np)\r\n",
    "    # image_tensor = np.transpose(image_tensor, (2,0,1))\r\n",
    "    # print(image)\r\n",
    "    # print(image_np)\r\n",
    "    # print(image_tensor)\r\n",
    "    # image_np = np.array(image_tensor)\r\n",
    "    # image = Image.fromarray(uint8(image_np))\r\n",
    "    # new_image = pad_image(image, 672)\r\n",
    "    # pool3_3 = paddle.nn.MaxPool2D(3, 0)\r\n",
    "    # image_tensor = pool3_3(image_tensor)\r\n",
    "    # new_image.save(pad_path + label)\r\n",
    "    # image_PIL = Image.open(image_path + label).convert('RGB')\r\n",
    "\r\n",
    "    image_PIL = Image.open(image_path + labels['file_name'][i])\r\n",
    "    new_image = pad_image(image_PIL, (672,672))\r\n",
    "\r\n",
    "    image_np = np.array(new_image).astype('float32')\r\n",
    "    image_tensor = trans(image_np).reshape([1,3,672,672])\r\n",
    "    pool3_3 = paddle.nn.MaxPool2D(kernel_size=3, stride=3, padding=0)\r\n",
    "    image_tensor = pool3_3(image_tensor)\r\n",
    "    image_np = np.array(image_tensor)\r\n",
    "    image_np = np.reshape(image_np,(3,224,224))\r\n",
    "    image_PIL = Image.fromarray(np.uint8(image_np.transpose(1,2,0)))\r\n",
    "    image_PIL.save(pro_path + label)\r\n",
    "\r\n",
    "    "
   ]
  },
  {
   "cell_type": "markdown",
   "metadata": {
    "collapsed": false
   },
   "source": [
    "### 分组，5：1分开训练、测试集"
   ]
  },
  {
   "cell_type": "code",
   "execution_count": null,
   "metadata": {
    "collapsed": false
   },
   "outputs": [
    {
     "name": "stdout",
     "output_type": "stream",
     "text": [
      "[5477, 1891, 4885, 3589, 4198]\n",
      "               file_name  width  height  x1  y1   x2   y2  category\n",
      "5477  013_1_0019_1_j.png    151     140  41  31  107  101        13\n",
      "1891        048_0004.png    193     168  35  28  168  133        48\n",
      "4885      042_0005_j.png    209     201  30  39  162  151        42\n",
      "3589      024_1_0032.png    142     130  25  10  129  124        24\n",
      "4198        002_0017.png     42      45   5   5   37   42         2\n",
      "...                  ...    ...     ...  ..  ..  ...  ...       ...\n",
      "381         014_0008.png    126     111  20  13  113  101        14\n",
      "2036        055_0052.png    129     138  26  29  107  110        55\n",
      "2896      043_1_0005.png    106     106  21  15   97   78        43\n",
      "2309      005_1_0044.png    124     117  22  16  106  103         5\n",
      "5998  050_1_0002_1_j.png    107     104  18  21   83   81        50\n",
      "\n",
      "[1000 rows x 8 columns]\n"
     ]
    }
   ],
   "source": [
    "import random\r\n",
    "from PIL import Image\r\n",
    "\r\n",
    "# 生成测试集\r\n",
    "# 生成1000随机数，测试集的索引\r\n",
    "test_list = [random.randint(0,5998) for i in range(1000)]\r\n",
    "print(test_list[0:5])\r\n",
    "labels_test = labels.iloc[test_list[:],:]\r\n",
    "print(labels.iloc[test_list[:],:])\r\n",
    "df = labels_test.to_csv('work/test/labels_test.csv')\r\n",
    "for image_name in labels_test['file_name']:\r\n",
    "    image = Image.open(pro_path + image_name)\r\n",
    "    image.save(test_path + image_name)"
   ]
  },
  {
   "cell_type": "code",
   "execution_count": null,
   "metadata": {
    "collapsed": false
   },
   "outputs": [],
   "source": [
    "# 训练集\r\n",
    "labels_train = labels.drop(labels.index[test_list])\r\n",
    "labels_train.to_csv('work/train/labels_train.csv')\r\n",
    "for image_name in labels['file_name']:\r\n",
    "    image = Image.open(pro_path + image_name)\r\n",
    "    image.save(train_path + image_name)"
   ]
  },
  {
   "cell_type": "code",
   "execution_count": null,
   "metadata": {
    "collapsed": false
   },
   "outputs": [],
   "source": [
    "labels_train = pd.read_csv(\"work/train/labels_train.csv\")\r\n",
    "labels_test = pd.read_csv(\"work/test/labels_test.csv\")\r\n",
    "# print(labels_test)\r\n",
    "# print(labels_train)"
   ]
  },
  {
   "cell_type": "markdown",
   "metadata": {
    "collapsed": false
   },
   "source": [
    "### 读取图片，定义dataset、dataloader"
   ]
  },
  {
   "cell_type": "code",
   "execution_count": null,
   "metadata": {
    "collapsed": false
   },
   "outputs": [
    {
     "name": "stdout",
     "output_type": "stream",
     "text": [
      "step = 0 [50, 3, 224, 224] [14  3  3 24  7 52  0 55 12 29 35 35 28 36 11 23 37  7  3 52 28 13 12  5\n",
      " 54  3 28  1 30 20 26  7  3  1 16 35  6  2  3 14  7  6 13 26 11 28 30  6\n",
      " 28 56]\n",
      "step = 1 [50, 3, 224, 224] [54 43 50 16 17 14 10 28  3 16 17 26 55  0 31 16  0 55  2 28  5  5 28  0\n",
      "  4 30 35 54  4  0  5 44 56 10 11 43 26  4  7  3  3  2 28 20 54 46 27 52\n",
      " 35 16]\n",
      "step = 0 [50, 3, 224, 224] [35 49  3 55 12 12 20 36  5 24 29 17  2 31  3 35 31  5 22 51  0 37 35 14\n",
      "  2 35 54  5 50 29 43 14 34 54 40  0  3 35 43 31 45 38 24  3 12  7 24 11\n",
      " 54 37]\n",
      "step = 1 [50, 3, 224, 224] [24 42  3 35 14 35  2 47 28 12 12 55  2  3  5 55 11  3 11  7 40 14 35  2\n",
      " 54 29 54 26  1  5 37 30 26 37  0  5 14 49 13 40 16  1 24 43  3 29  7  0\n",
      "  2 43]\n"
     ]
    }
   ],
   "source": [
    "# 读取图片并与标签组合\r\n",
    "import paddle\r\n",
    "import numpy as np\r\n",
    "import paddle.vision.transforms as T\r\n",
    "from PIL import Image\r\n",
    "batch_size = 100\r\n",
    "# 定义dataset类\r\n",
    "class MyImageNetDataset(paddle.io.Dataset):\r\n",
    "    def __init__(self,\r\n",
    "                 num_samples,\r\n",
    "                 num_classes,\r\n",
    "                 train=True):\r\n",
    "        super(MyImageNetDataset, self).__init__()\r\n",
    "\r\n",
    "        self.num_samples = num_samples\r\n",
    "        self.num_classes = num_classes\r\n",
    "        self.transform = T.Compose([\r\n",
    "            T.Normalize(\r\n",
    "                mean= [0.43063927, 0.41976154, 0.42952005],\r\n",
    "                std = [0.20604774, 0.19884101, 0.20074175],\r\n",
    "                data_format='HWC'),\r\n",
    "                T.ToTensor()\r\n",
    "            ])\r\n",
    "        self.train = train\r\n",
    "\r\n",
    "    def __getitem__(self, index):\r\n",
    "        if self.train:\r\n",
    "            image = np.array(Image.open(train_path + labels_train['file_name'][index])).astype('float32')/255\r\n",
    "        else:\r\n",
    "            image = np.array(Image.open(test_path + labels_test['file_name'][index])).astype('float32')/255\r\n",
    "        # label = np.zeros([58]).astype(\"float32\")\r\n",
    "        # label[int(labels['category'][index])] = 1\r\n",
    "        label = labels['category'][index]\r\n",
    "\r\n",
    "        image = self.transform(image)\r\n",
    "        return image, label\r\n",
    "\r\n",
    "    def __len__(self):\r\n",
    "        return self.num_samples\r\n",
    "\r\n",
    "# dataset对象\r\n",
    "train_dataset = MyImageNetDataset(num_samples=5000, num_classes=58, train = True)\r\n",
    "test_dataset  = MyImageNetDataset(num_samples=1000, num_classes=58, train = False)\r\n",
    "# print(train_dataset.__getitem__(100)[0].shape)\r\n",
    "# print(len(train_dataset))\r\n",
    "\r\n",
    "# dataloader\r\n",
    "train_dataloader = paddle.io.DataLoader(train_dataset,\r\n",
    "                                        batch_size=batch_size,\r\n",
    "                                        shuffle=True,\r\n",
    "                                        drop_last=False)\r\n",
    "test_dataloader  = paddle.io.DataLoader(test_dataset,\r\n",
    "                                        batch_size=batch_size,\r\n",
    "                                        shuffle=True,\r\n",
    "                                        drop_last=False)\r\n",
    "\r\n",
    "# test loader\r\n",
    "for step, (image, label) in enumerate(train_dataloader()):\r\n",
    "    print(\"step =\",step, image.shape, label.numpy())\r\n",
    "    if step==1:\r\n",
    "        break\r\n",
    "for step, (image, label) in enumerate(test_dataloader()):\r\n",
    "    print(\"step =\",step, image.shape, label.numpy())\r\n",
    "    if step==1:\r\n",
    "        break\r\n",
    "\r\n",
    "# print(train_dataset.__getitem__(0))"
   ]
  },
  {
   "cell_type": "markdown",
   "metadata": {
    "collapsed": false
   },
   "source": [
    "全部数据集，不知道为什么，必须用全集才能训练出一定效果"
   ]
  },
  {
   "cell_type": "code",
   "execution_count": null,
   "metadata": {
    "collapsed": false
   },
   "outputs": [],
   "source": [
    "# 读取图片并与标签组合\r\n",
    "import paddle\r\n",
    "import numpy as np\r\n",
    "import paddle.vision.transforms as T\r\n",
    "from PIL import Image\r\n",
    "batch_size = 50\r\n",
    "labels = pd.read_csv(\"work/annotations.csv\")\r\n",
    "# 定义dataset类\r\n",
    "class MyImageNetDataset_all(paddle.io.Dataset):\r\n",
    "    def __init__(self,\r\n",
    "                 num_samples,\r\n",
    "                 num_classes):\r\n",
    "        super().__init__()\r\n",
    "\r\n",
    "        self.num_samples = num_samples\r\n",
    "        self.num_classes = num_classes\r\n",
    "        self.transform = T.Compose([\r\n",
    "            T.Normalize(\r\n",
    "                mean= [0.43063927, 0.41976154, 0.42952005],\r\n",
    "                std = [0.20604774, 0.19884101, 0.20074175],\r\n",
    "                data_format='HWC'),\r\n",
    "                T.ToTensor()\r\n",
    "            ])\r\n",
    "\r\n",
    "    def __getitem__(self, index):\r\n",
    "        image = np.array(Image.open(pro_path + labels['file_name'][index])).astype('float32')/255\r\n",
    "        # label = np.zeros([58]).astype(\"float32\")\r\n",
    "        # label[int(labels['category'][index])] = 1\r\n",
    "        label = labels['category'][index]\r\n",
    "\r\n",
    "        image = self.transform(image)\r\n",
    "        return image, label\r\n",
    "\r\n",
    "    def __len__(self):\r\n",
    "        return self.num_samples\r\n",
    "\r\n",
    "# dataset对象\r\n",
    "dataset = MyImageNetDataset_all(num_samples=6000, num_classes=58)\r\n",
    "dataloader  = paddle.io.DataLoader(dataset,\r\n",
    "                                    batch_size=batch_size,\r\n",
    "                                    shuffle=True,\r\n",
    "                                    drop_last=False)"
   ]
  },
  {
   "cell_type": "markdown",
   "metadata": {
    "collapsed": false
   },
   "source": [
    "## 模型准备"
   ]
  },
  {
   "cell_type": "markdown",
   "metadata": {
    "collapsed": false
   },
   "source": [
    "### Alex_net"
   ]
  },
  {
   "cell_type": "code",
   "execution_count": 38,
   "metadata": {
    "collapsed": false
   },
   "outputs": [],
   "source": [
    "import paddle.nn as nn\r\n",
    "import paddle.nn.functional as F\r\n",
    "import numpy as np\r\n",
    "from paddle.vision.transforms import Compose, Resize, Transpose, Normalize\r\n",
    "\r\n",
    "#构建模型\r\n",
    "class Traffic_Model(nn.Layer):\r\n",
    "    def __init__(self):\r\n",
    "        super().__init__()\r\n",
    "        self.conv_pool1 = paddle.nn.Sequential(  #输入大小m*3*227*227\r\n",
    "            paddle.nn.Conv2D(3,96,11,4,0),      #L1, 输出大小m*96*55*55\r\n",
    "            paddle.nn.ReLU(),       #L2, 输出大小m*96*55*55\r\n",
    "            paddle.nn.MaxPool2D(kernel_size=3, stride=2))  #L3, 输出大小m*96*27*27\r\n",
    "        self.conv_pool2 = paddle.nn.Sequential(\r\n",
    "            paddle.nn.Conv2D(96, 256, 5, 1, 2), #L4, 输出大小m*256*27*27\r\n",
    "            paddle.nn.ReLU(),       #L5, 输出大小m*256*27*27\r\n",
    "            paddle.nn.MaxPool2D(3, 2))         #L6, 输出大小m*256*13*13\r\n",
    "        self.conv_pool3 = paddle.nn.Sequential(\r\n",
    "            paddle.nn.Conv2D(256, 384, 3, 1, 1),#L7, 输出大小m*384*13*13\r\n",
    "            paddle.nn.ReLU())       #L8, 输出m*384*13*13\r\n",
    "        self.conv_pool4 = paddle.nn.Sequential(\r\n",
    "            paddle.nn.Conv2D(384, 384, 3, 1, 1),#L9, 输出大小m*384*13*13\r\n",
    "            paddle.nn.ReLU())       #L10, 输出大小m*384*13*13\r\n",
    "        self.conv_pool5 = paddle.nn.Sequential(\r\n",
    "            paddle.nn.Conv2D(384, 256, 3, 1, 1),#L11, 输出大小m*256*13*13\r\n",
    "            paddle.nn.ReLU(),       #L12, 输出大小m*256*13*13\r\n",
    "            paddle.nn.MaxPool2D(3, 2))         #L13, 输出大小m*256*6*6\r\n",
    "        self.full_conn = paddle.nn.Sequential(\r\n",
    "            paddle.nn.Linear(6400, 4096),    #L14, 输出大小m*4096\r\n",
    "            paddle.nn.ReLU(),       #L15, 输出大小m*4096\r\n",
    "            paddle.nn.Dropout(0.5),             #L16, 输出大小m*4096\r\n",
    "            paddle.nn.Linear(4096, 4096),       #L17, 输出大小m*4096\r\n",
    "            paddle.nn.ReLU(),       #L18, 输出大小m*4096\r\n",
    "            paddle.nn.Dropout(0.5),             #L19, 输出大小m*4096\r\n",
    "            paddle.nn.Linear(4096, 58))        #L20, 输出大小m*\r\n",
    "        self.flatten=paddle.nn.Flatten()\r\n",
    "\r\n",
    "    def forward(self, x): #前向传播\r\n",
    "        x = self.conv_pool1(x)\r\n",
    "        x = self.conv_pool2(x)\r\n",
    "        x = self.conv_pool3(x)\r\n",
    "        x = self.conv_pool4(x)\r\n",
    "        x = self.conv_pool5(x)\r\n",
    "        x = self.flatten(x)\r\n",
    "        # x = F.softmax()\r\n",
    "        x = self.full_conn(x)\r\n",
    "        x = paddle.reshape(x, [58,1])\r\n",
    "        return x"
   ]
  },
  {
   "cell_type": "markdown",
   "metadata": {
    "collapsed": false
   },
   "source": [
    "### VGG"
   ]
  },
  {
   "cell_type": "code",
   "execution_count": null,
   "metadata": {
    "collapsed": false
   },
   "outputs": [],
   "source": [
    "# VGG模型代码\r\n",
    "import numpy as np\r\n",
    "import paddle\r\n",
    "import paddle.fluid as fluid\r\n",
    "from paddle.fluid.dygraph.nn import Conv2D, Pool2D, BatchNorm, Linear\r\n",
    "from paddle.fluid.dygraph.base import to_variable\r\n",
    "\r\n",
    "# 定义vgg块，包含多层卷积和1层2x2的最大池化层\r\n",
    "class vgg_block(fluid.dygraph.Layer):\r\n",
    "    def __init__(self, num_convs, in_channels, out_channels):\r\n",
    "        \"\"\"\r\n",
    "        num_convs, 卷积层的数目\r\n",
    "        num_channels, 卷积层的输出通道数，在同一个Incepition块内，卷积层输出通道数是一样的\r\n",
    "        \"\"\"\r\n",
    "        super(vgg_block, self).__init__()\r\n",
    "        self.conv_list = []\r\n",
    "        for i in range(num_convs):\r\n",
    "            conv_layer = self.add_sublayer('conv_' + str(i), Conv2D(num_channels=in_channels, \r\n",
    "                                        num_filters=out_channels, filter_size=3, padding=1, act='relu'))\r\n",
    "            self.conv_list.append(conv_layer)\r\n",
    "            in_channels = out_channels\r\n",
    "        self.pool = Pool2D(pool_stride=2, pool_size = 2, pool_type='max')\r\n",
    "    def forward(self, x):\r\n",
    "        for item in self.conv_list:\r\n",
    "            x = item(x)\r\n",
    "        return self.pool(x)\r\n",
    "\r\n",
    "class VGG(fluid.dygraph.Layer):\r\n",
    "    def __init__(self, conv_arch=((2, 64), \r\n",
    "                                (2, 128), (3, 256), (3, 512), (3, 512))):\r\n",
    "        super(VGG, self).__init__()\r\n",
    "        self.vgg_blocks=[]\r\n",
    "        iter_id = 0\r\n",
    "        # 添加vgg_block\r\n",
    "        # 这里一共5个vgg_block，每个block里面的卷积层数目和输出通道数由conv_arch指定\r\n",
    "        in_channels = [3, 64, 128, 256, 512, 512]\r\n",
    "        for (num_convs, num_channels) in conv_arch:\r\n",
    "            block = self.add_sublayer('block_' + str(iter_id), \r\n",
    "                    vgg_block(num_convs, in_channels=in_channels[iter_id], \r\n",
    "                              out_channels=num_channels))\r\n",
    "            self.vgg_blocks.append(block)\r\n",
    "            iter_id += 1\r\n",
    "        self.fc1 = Linear(input_dim=512*7*7, output_dim=4096,\r\n",
    "                      act='relu')\r\n",
    "        self.drop1_ratio = 0.5\r\n",
    "        self.fc2= Linear(input_dim=4096, output_dim=4096,\r\n",
    "                      act='relu')\r\n",
    "        self.drop2_ratio = 0.5\r\n",
    "        self.fc3 = Linear(input_dim=4096, output_dim=58)\r\n",
    "        \r\n",
    "    def forward(self, x):\r\n",
    "        for item in self.vgg_blocks:\r\n",
    "            x = item(x)\r\n",
    "        x = fluid.layers.reshape(x, [x.shape[0], -1])\r\n",
    "        x = fluid.layers.dropout(self.fc1(x), self.drop1_ratio)\r\n",
    "        x = fluid.layers.dropout(self.fc2(x), self.drop2_ratio)\r\n",
    "        x = self.fc3(x)\r\n",
    "        return x"
   ]
  },
  {
   "cell_type": "markdown",
   "metadata": {
    "collapsed": false
   },
   "source": [
    "## 模型训练\n",
    "* lr_schedule-----0.001\n",
    "* optimize--------Adam、SGD\n",
    "* epoch-----------10\n",
    "* batch_size------100\n",
    "* Loss function---CrossEntropy\n",
    "\n",
    "训练结束后保存网络和优化器的state_dict()参数"
   ]
  },
  {
   "cell_type": "code",
   "execution_count": null,
   "metadata": {
    "collapsed": false
   },
   "outputs": [
    {
     "name": "stdout",
     "output_type": "stream",
     "text": [
      "gpu:0\n"
     ]
    }
   ],
   "source": [
    "print(paddle.get_device())\r\n",
    "# paddle.set_device('gpu')"
   ]
  },
  {
   "cell_type": "markdown",
   "metadata": {
    "collapsed": false
   },
   "source": [
    "### paddle.Model"
   ]
  },
  {
   "cell_type": "code",
   "execution_count": null,
   "metadata": {
    "collapsed": false
   },
   "outputs": [],
   "source": [
    "model=paddle.Model(Traffic_Model())\r\n",
    "\r\n",
    "model.prepare(paddle.optimizer.Adam(parameters=model.parameters()),\r\n",
    "              paddle.nn.CrossEntropyLoss(),\r\n",
    "              paddle.metric.Accuracy())\r\n",
    "\r\n",
    "model.fit(train_dataset,\r\n",
    "          epochs=5,\r\n",
    "          batch_size=64,\r\n",
    "          verbose=1\r\n",
    "          )\r\n"
   ]
  },
  {
   "cell_type": "markdown",
   "metadata": {
    "collapsed": false
   },
   "source": [
    "### 传统方法"
   ]
  },
  {
   "cell_type": "markdown",
   "metadata": {
    "collapsed": false
   },
   "source": [
    "#### 1-1"
   ]
  },
  {
   "cell_type": "code",
   "execution_count": 39,
   "metadata": {
    "collapsed": false
   },
   "outputs": [
    {
     "name": "stdout",
     "output_type": "stream",
     "text": [
      "训练轮次: 9; 损失: [1.2206414];平均准确率：0.7474\r"
     ]
    },
    {
     "data": {
      "image/png": "[encoded data removed]",
      "text/plain": [
       "<Figure size 432x288 with 1 Axes>"
      ]
     },
     "metadata": {},
     "output_type": "display_data"
    },
    {
     "name": "stderr",
     "output_type": "stream",
     "text": [
      "/opt/conda/envs/python35-paddle120-env/lib/python3.7/site-packages/paddle/framework/io.py:729: UserWarning: The input state dict is empty, no need to save.\n",
      "  warnings.warn(\"The input state dict is empty, no need to save.\")\n"
     ]
    }
   ],
   "source": [
    "import paddle.nn as nn\r\n",
    "import paddle.nn.functional as F\r\n",
    "import numpy as np\r\n",
    "import matplotlib.pyplot as plt\r\n",
    "model = VGG()\r\n",
    "\r\n",
    "# model = Traffic_Model()\r\n",
    "# model.train()\r\n",
    "# for step, (image, label) in enumerate(train_dataloader()):\r\n",
    "#     print(image.shape)\r\n",
    "#     print(model(image))\r\n",
    "#     print(label)\r\n",
    "#     break\r\n",
    "\r\n",
    "epoch_num = 10\r\n",
    "learning_rate = 0.001\r\n",
    "\r\n",
    "\r\n",
    "opt = paddle.optimizer.SGD(learning_rate=learning_rate, parameters=model.parameters())\r\n",
    "# Loss = nn.CrossEntropyLoss()\r\n",
    "correct = 0\r\n",
    "acc = 0\r\n",
    "acc_list = []\r\n",
    "epoch_list = []\r\n",
    "def train(model):\r\n",
    "    #启动训练模式\r\n",
    "    model.train()\r\n",
    "\r\n",
    "    for epoch in range(epoch_num):\r\n",
    "        acc_avg = 0\r\n",
    "        for batch_id, data in enumerate(dataloader()):\r\n",
    "            x_data = paddle.cast(data[0], 'float32')\r\n",
    "            y_data = paddle.cast(data[1], 'int64')\r\n",
    "            y_data = paddle.reshape(y_data, (-1, 1))\r\n",
    "            y_predict = model(x_data)\r\n",
    "            loss = F.cross_entropy(y_predict, y_data)\r\n",
    "            # loss = Loss(y_predict, y_data)\r\n",
    "            loss.backward()\r\n",
    "            opt.step()\r\n",
    "            opt.clear_grad()\r\n",
    "            acc = float(np.asarray(paddle.metric.accuracy(y_predict, y_data))[0])\r\n",
    "            acc_avg += acc\r\n",
    "            # print(batch_id, '-th batch', 'acc:', '%.2f'%acc, 'loss:', np.asarray(loss)[0])\r\n",
    "            print(batch_id, '-th batch', 'acc:', '%.2f'%acc)\r\n",
    "        acc_avg /= int(5000/batch_size)\r\n",
    "        epoch_list.append(epoch)\r\n",
    "        acc_list.append(acc_avg)\r\n",
    "        print(\"训练轮次: {}; 损失: {};平均准确率：{:.4f}\".format(epoch, loss.numpy(), acc_avg))\r\n",
    "\r\n",
    "train(model)\r\n",
    "plt.plot(epoch_list, acc_list)\r\n",
    "plt.show()\r\n",
    "paddle.save(model.state_dict(), 'work/model1.pdparams')\r\n",
    "paddle.save(opt.state_dict(), 'work/opt1.pdopt')"
   ]
  },
  {
   "cell_type": "markdown",
   "metadata": {
    "collapsed": false
   },
   "source": [
    "#### 1-2\n",
    "上面epoch设置得有点小，再跑一次\n",
    "\n",
    "计算平均acc时，分母应该是60，写成50了，所以会有超过1的现象，但是每个batch的准确率没有问题"
   ]
  },
  {
   "cell_type": "code",
   "execution_count": 40,
   "metadata": {
    "collapsed": false
   },
   "outputs": [
    {
     "name": "stdout",
     "output_type": "stream",
     "text": [
      "训练轮次: 9; 损失: [0.53997153];平均准确率：1.0420\r"
     ]
    },
    {
     "data": {
      "image/png": "[encoded data removed]",
      "text/plain": [
       "<Figure size 432x288 with 1 Axes>"
      ]
     },
     "metadata": {},
     "output_type": "display_data"
    },
    {
     "name": "stderr",
     "output_type": "stream",
     "text": [
      "/opt/conda/envs/python35-paddle120-env/lib/python3.7/site-packages/paddle/framework/io.py:729: UserWarning: The input state dict is empty, no need to save.\n",
      "  warnings.warn(\"The input state dict is empty, no need to save.\")\n"
     ]
    }
   ],
   "source": [
    "train(model)\r\n",
    "plt.plot(epoch_list, acc_list)\r\n",
    "plt.show()\r\n",
    "paddle.save(model.state_dict(), 'work/model1.pdparams')\r\n",
    "paddle.save(opt.state_dict(), 'work/opt1.pdopt')"
   ]
  },
  {
   "cell_type": "code",
   "execution_count": null,
   "metadata": {
    "collapsed": false
   },
   "outputs": [],
   "source": [
    "import paddle.nn as nn\r\n",
    "import paddle.nn.functional as F\r\n",
    "import numpy as np\r\n",
    "import matplotlib.pyplot as plt\r\n",
    "model = VGG()\r\n",
    "\r\n",
    "epoch_num = 10\r\n",
    "learning_rate = 0.001\r\n",
    "\r\n",
    "\r\n",
    "opt = paddle.optimizer.SGD(learning_rate=learning_rate, parameters=model.parameters())\r\n",
    "# Loss = nn.CrossEntropyLoss()\r\n",
    "correct = 0\r\n",
    "acc = 0\r\n",
    "acc_list = []\r\n",
    "epoch_list = []\r\n",
    "def train(model):\r\n",
    "    #启动训练模式\r\n",
    "    model.train()\r\n",
    "\r\n",
    "    for epoch in range(epoch_num):\r\n",
    "        acc_avg = 0\r\n",
    "        for batch_id, data in enumerate(dataloader()):\r\n",
    "            x_data = paddle.cast(data[0], 'float32')\r\n",
    "            y_data = paddle.cast(data[1], 'int64')\r\n",
    "            y_data = paddle.reshape(y_data, (-1, 1))\r\n",
    "            y_predict = model(x_data)\r\n",
    "            loss = F.cross_entropy(y_predict, y_data)\r\n",
    "            # loss = Loss(y_predict, y_data)\r\n",
    "            loss.backward()\r\n",
    "            opt.step()\r\n",
    "            opt.clear_grad()\r\n",
    "            acc = float(np.asarray(paddle.metric.accuracy(y_predict, y_data))[0])\r\n",
    "            acc_avg += acc\r\n",
    "            # print(batch_id, '-th batch', 'acc:', '%.2f'%acc, 'loss:', np.asarray(loss)[0])\r\n",
    "            print(batch_id, '-th batch', 'acc:', '%.2f'%acc)\r\n",
    "        acc_avg /= int(5000/batch_size)\r\n",
    "        epoch_list.append(epoch)\r\n",
    "        acc_list.append(acc_avg)\r\n",
    "        print(\"训练轮次: {}; 损失: {};平均准确率：{:.4f}\".format(epoch, loss.numpy(), acc_avg))\r\n",
    "\r\n",
    "train(model)\r\n",
    "plt.plot(epoch_list, acc_list)\r\n",
    "plt.show()\r\n",
    "paddle.save(model.state_dict(), 'work/model2.pdparams')\r\n",
    "paddle.save(opt.state_dict(), 'work/opt2.pdopt')"
   ]
  },
  {
   "cell_type": "markdown",
   "metadata": {
    "collapsed": false
   },
   "source": [
    "## 测试模型\n",
    "### 参数导入\n",
    "paddle.load函数导入网络layer及优化器opt的参数"
   ]
  },
  {
   "cell_type": "code",
   "execution_count": 41,
   "metadata": {
    "collapsed": false
   },
   "outputs": [
    {
     "name": "stdout",
     "output_type": "stream",
     "text": [
      "<paddle.optimizer.sgd.SGD object at 0x7f076e3e3510>\n"
     ]
    }
   ],
   "source": [
    "# load\n",
    "layer_state_dict = paddle.load(\"work/model1.pdparams\")\n",
    "opt_state_dict = paddle.load(\"work/opt1.pdopt\")\n",
    "\n",
    "model.set_state_dict(layer_state_dict)\n",
    "opt.set_state_dict(opt_state_dict)\n",
    "print(opt)"
   ]
  },
  {
   "cell_type": "markdown",
   "metadata": {
    "collapsed": false
   },
   "source": [
    "### 测试准确率"
   ]
  },
  {
   "cell_type": "code",
   "execution_count": 42,
   "metadata": {
    "collapsed": false
   },
   "outputs": [
    {
     "name": "stdout",
     "output_type": "stream",
     "text": [
      "评估准确度为：0.034999996423721313；损失为：13.963948249816895\n"
     ]
    }
   ],
   "source": [
    "model.eval()\r\n",
    "accuracies = []\r\n",
    "losses = []\r\n",
    "for batch_id, data in enumerate(test_dataloader()):\r\n",
    "    x_data = paddle.cast(data[0], 'float32')\r\n",
    "    y_data = paddle.cast(data[1], 'int64')\r\n",
    "    y_data = paddle.reshape(y_data, (-1, 1))\r\n",
    "    y_predict = model(x_data)\r\n",
    "    loss = F.cross_entropy(y_predict, y_data)\r\n",
    "    acc = paddle.metric.accuracy(y_predict, y_data)\r\n",
    "    accuracies.append(np.mean(acc.numpy()))\r\n",
    "    losses.append(np.mean(loss.numpy()))\r\n",
    "\r\n",
    "avg_acc, avg_loss = np.mean(accuracies), np.mean(losses)\r\n",
    "print(\"评估准确度为：{}；损失为：{}\".format(avg_acc, avg_loss))\r\n",
    "val_acc_history.append(avg_acc)\r\n",
    "val_loss_history.append(avg_loss)"
   ]
  },
  {
   "cell_type": "markdown",
   "metadata": {
    "collapsed": false
   },
   "source": [
    "以下请忽略~学习框架时的一些测试"
   ]
  },
  {
   "cell_type": "code",
   "execution_count": null,
   "metadata": {
    "collapsed": false
   },
   "outputs": [
    {
     "name": "stdout",
     "output_type": "stream",
     "text": [
      "Tensor(shape=[1], dtype=float32, place=CPUPlace, stop_gradient=True,\n",
      "       [4.64138317])\n"
     ]
    },
    {
     "name": "stderr",
     "output_type": "stream",
     "text": [
      "/opt/conda/envs/python35-paddle120-env/lib/python3.7/site-packages/paddle/fluid/dygraph/math_op_patch.py:253: UserWarning: The dtype of left and right variables are not the same, left dtype is paddle.float32, but right dtype is paddle.bool, the right dtype will convert to paddle.float32\n",
      "  format(lhs_dtype, rhs_dtype, lhs_dtype))\n"
     ]
    }
   ],
   "source": [
    "# 以下为测试交叉熵损失函数\r\n",
    "import paddle\r\n",
    "\r\n",
    "input_data = paddle.rand(shape=[5, 100])\r\n",
    "label_data = paddle.randint(0, 100, shape=[5,1], dtype=\"int64\")\r\n",
    "weight_data = paddle.rand([100])\r\n",
    "# print(input_data)\r\n",
    "\r\n",
    "loss = paddle.nn.functional.cross_entropy(input=input_data, label=label_data, weight=weight_data)\r\n",
    "print(loss)\r\n",
    "# [4.38418674]\r\n"
   ]
  },
  {
   "cell_type": "code",
   "execution_count": null,
   "metadata": {
    "collapsed": false
   },
   "outputs": [
    {
     "name": "stdout",
     "output_type": "stream",
     "text": [
      "Tensor(shape=[1], dtype=float64, place=CPUPlace, stop_gradient=True,\n",
      "       [4.95495153])\n"
     ]
    },
    {
     "name": "stderr",
     "output_type": "stream",
     "text": [
      "/opt/conda/envs/python35-paddle120-env/lib/python3.7/site-packages/paddle/fluid/dygraph/math_op_patch.py:253: UserWarning: The dtype of left and right variables are not the same, left dtype is paddle.float64, but right dtype is paddle.bool, the right dtype will convert to paddle.float64\n",
      "  format(lhs_dtype, rhs_dtype, lhs_dtype))\n"
     ]
    }
   ],
   "source": [
    "# 交叉熵损失\r\n",
    "import paddle\r\n",
    "import numpy as np\r\n",
    "\r\n",
    "input_data = paddle.uniform([5, 100], dtype=\"float64\")\r\n",
    "label_data = np.random.randint(0, 100, size=(5)).astype(np.int64)\r\n",
    "weight_data = np.random.random([100]).astype(\"float64\")\r\n",
    "# print(input_data)\r\n",
    "input =  paddle.to_tensor(input_data)\r\n",
    "label =  paddle.to_tensor(label_data)\r\n",
    "weight = paddle.to_tensor(weight_data)\r\n",
    "\r\n",
    "ce_loss = paddle.nn.CrossEntropyLoss(weight=weight, reduction='mean')\r\n",
    "output = ce_loss(input, label)\r\n",
    "print(output)\r\n",
    "# [4.84496039]\r\n",
    "\r\n"
   ]
  },
  {
   "cell_type": "markdown",
   "metadata": {
    "collapsed": false
   },
   "source": [
    "以下为默认提示"
   ]
  },
  {
   "cell_type": "code",
   "execution_count": null,
   "metadata": {
    "collapsed": false
   },
   "outputs": [],
   "source": [
    "# 查看当前挂载的数据集目录, 该目录下的变更重启环境后会自动还原\n",
    "# View dataset directory. \n",
    "# This directory will be recovered automatically after resetting environment. \n",
    "!ls /home/aistudio/data"
   ]
  },
  {
   "cell_type": "code",
   "execution_count": null,
   "metadata": {
    "collapsed": false
   },
   "outputs": [],
   "source": [
    "# 查看工作区文件, 该目录下的变更将会持久保存. 请及时清理不必要的文件, 避免加载过慢.\n",
    "# View personal work directory. \n",
    "# All changes under this directory will be kept even after reset. \n",
    "# Please clean unnecessary files in time to speed up environment loading. \n",
    "!ls /home/aistudio/work"
   ]
  },
  {
   "cell_type": "code",
   "execution_count": null,
   "metadata": {
    "collapsed": false
   },
   "outputs": [],
   "source": [
    "# 如果需要进行持久化安装, 需要使用持久化路径, 如下方代码示例:\n",
    "# If a persistence installation is required, \n",
    "# you need to use the persistence path as the following: \n",
    "!mkdir /home/aistudio/external-libraries\n",
    "!pip install beautifulsoup4 -t /home/aistudio/external-libraries"
   ]
  },
  {
   "cell_type": "code",
   "execution_count": null,
   "metadata": {
    "collapsed": false
   },
   "outputs": [],
   "source": [
    "# 同时添加如下代码, 这样每次环境(kernel)启动的时候只要运行下方代码即可: \n",
    "# Also add the following code, \n",
    "# so that every time the environment (kernel) starts, \n",
    "# just run the following code: \n",
    "import sys \n",
    "sys.path.append('/home/aistudio/external-libraries')"
   ]
  },
  {
   "cell_type": "markdown",
   "metadata": {
    "collapsed": false
   },
   "source": [
    "请点击[此处](https://ai.baidu.com/docs#/AIStudio_Project_Notebook/a38e5576)查看本环境基本用法.  <br>\n",
    "Please click [here ](https://ai.baidu.com/docs#/AIStudio_Project_Notebook/a38e5576) for more detailed instructions. "
   ]
  }
 ],
 "metadata": {
  "kernelspec": {
   "display_name": "Python 3",
   "language": "python",
   "name": "py35-paddle1.2.0"
  },
  "language_info": {
   "codemirror_mode": {
    "name": "ipython",
    "version": 3
   },
   "file_extension": ".py",
   "mimetype": "text/x-python",
   "name": "python",
   "nbconvert_exporter": "python",
   "pygments_lexer": "ipython3",
   "version": "3.7.4"
  }
 },
 "nbformat": 4,
 "nbformat_minor": 1
}
